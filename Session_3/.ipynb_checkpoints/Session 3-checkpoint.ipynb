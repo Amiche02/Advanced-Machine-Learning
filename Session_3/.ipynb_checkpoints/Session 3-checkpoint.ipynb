{
 "cells": [
  {
   "cell_type": "markdown",
   "metadata": {
    "id": "AepQeYrT_EZG"
   },
   "source": [
    "# Tensorboard"
   ]
  },
  {
   "cell_type": "code",
   "execution_count": null,
   "metadata": {
    "id": "LFXzoCmwyBSm"
   },
   "outputs": [],
   "source": [
    "!rm -r /content/logs/*"
   ]
  },
  {
   "cell_type": "code",
   "execution_count": null,
   "metadata": {
    "id": "EpZRhFNq-hIe"
   },
   "outputs": [],
   "source": [
    "# Load the TensorBoard notebook extension.\n",
    "%load_ext tensorboard"
   ]
  },
  {
   "cell_type": "code",
   "execution_count": null,
   "metadata": {
    "id": "11Yh80lx-ze-"
   },
   "outputs": [],
   "source": [
    "%tensorboard --logdir logs/scalars"
   ]
  },
  {
   "cell_type": "code",
   "execution_count": null,
   "metadata": {
    "id": "7cjKwKL3rK63"
   },
   "outputs": [],
   "source": [
    "import tensorflow as tf\n",
    "import numpy as np\n",
    "\n",
    "x_train = np.array([[0,0],\n",
    "                    [0,1],\n",
    "                    [1,0],\n",
    "                    [1,1]])\n",
    "\n",
    "y_train = np.array([[0], [1], [1], [0]])"
   ]
  },
  {
   "cell_type": "code",
   "execution_count": null,
   "metadata": {
    "id": "GnOm5S1x-hmV"
   },
   "outputs": [],
   "source": [
    "N_EPOCH = 200\n",
    "\n",
    "experiments = [\n",
    "    {'epoch': N_EPOCH, 'lr': 0.1, 'layers': [5, 3], 'activation': 'relu', 'batch_size': 1},\n",
    "    {'epoch': N_EPOCH, 'lr': 0.1, 'layers': [5, 3], 'activation': 'tanh', 'batch_size': 1},\n",
    "    {'epoch': N_EPOCH, 'lr': 0.1, 'layers': [5, 3], 'activation': 'relu', 'batch_size': 2},\n",
    "    {'epoch': N_EPOCH, 'lr': 0.1, 'layers': [5, 5, 5], 'activation': 'relu', 'batch_size': 1},\n",
    "    {'epoch': N_EPOCH, 'lr': 0.1, 'layers': [20, 20, 20], 'activation': 'relu', 'batch_size': 1},\n",
    "    {'epoch': N_EPOCH, 'lr': 0.01, 'layers': [5, 3], 'activation': 'relu', 'batch_size': 1},\n",
    "    {'epoch': N_EPOCH, 'lr': 0.01, 'layers': [5, 3], 'activation': 'relu', 'batch_size': 2},\n",
    "    {'epoch': N_EPOCH, 'lr': 0.001, 'layers': [5, 3], 'activation': 'relu', 'batch_size': 1},\n",
    "    {'epoch': N_EPOCH, 'lr': 0.001, 'layers': [5, 3], 'activation': 'relu', 'batch_size': 2},\n",
    "    {'epoch': N_EPOCH, 'lr': 0.0001, 'layers': [5, 3], 'activation': 'relu', 'batch_size': 1},\n",
    "]\n",
    "\n",
    "all_models = []\n",
    "for i, config in enumerate(experiments):\n",
    "    logdir = \"logs/scalars/\" + str(i)\n",
    "    tensorboard_callback = tf.keras.callbacks.TensorBoard(log_dir=logdir)\n",
    "\n",
    "    model = tf.keras.Sequential()\n",
    "    model.add(tf.keras.layers.Dense(config['layers'][0], activation=config['activation'], input_dim=2))\n",
    "    for layer in config['layers'][1:]:\n",
    "        model.add(tf.keras.layers.Dense(3, activation=config['activation']))\n",
    "    model.add(tf.keras.layers.Dense(1, activation='sigmoid'))\n",
    "\n",
    "    sgd = tf.keras.optimizers.SGD(lr=config['lr'])\n",
    "    model.compile(loss='mean_squared_error', optimizer=sgd, metrics=['mean_squared_error'])\n",
    "\n",
    "    model.fit(x_train, y_train, batch_size=config['batch_size'], epochs=config['epoch'], verbose=1, callbacks=[tensorboard_callback])\n",
    "\n",
    "    all_models.append(model)"
   ]
  },
  {
   "cell_type": "code",
   "execution_count": null,
   "metadata": {
    "id": "p8muaElsuYSn"
   },
   "outputs": [],
   "source": [
    "for i, model in enumerate(all_models):\n",
    "    print('model {}'.format(str(i)))\n",
    "    print(model.predict(x_train, verbose=0).round())"
   ]
  }
 ],
 "metadata": {
  "colab": {
   "provenance": []
  },
  "kernelspec": {
   "display_name": "Python 3 (ipykernel)",
   "language": "python",
   "name": "python3"
  },
  "language_info": {
   "codemirror_mode": {
    "name": "ipython",
    "version": 3
   },
   "file_extension": ".py",
   "mimetype": "text/x-python",
   "name": "python",
   "nbconvert_exporter": "python",
   "pygments_lexer": "ipython3",
   "version": "3.11.5"
  }
 },
 "nbformat": 4,
 "nbformat_minor": 1
}
