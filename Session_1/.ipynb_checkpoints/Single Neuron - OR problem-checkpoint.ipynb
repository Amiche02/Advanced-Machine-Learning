{
 "cells": [
  {
   "cell_type": "code",
   "execution_count": 11,
   "metadata": {
    "id": "bPbDd1LWUeNj"
   },
   "outputs": [],
   "source": [
    "import numpy as np\n",
    "\n",
    "dataset = [\n",
    "    (0, 0, 0),\n",
    "    (1, 0, 1),\n",
    "    (0, 1, 1),\n",
    "    (1, 1, 1),\n",
    "]\n",
    "\n",
    "lr = 0.001\n",
    "\n",
    "w1, w2 = (np.random.rand(2) * 2) - 1\n",
    "\n",
    "max_iter = 1000\n",
    "for i, (a, b, c) in enumerate(dataset):\n",
    "    o = (w1*a + w2*b)\n",
    "\n",
    "    w1 = w1 + lr * ((c - o) * a)\n",
    "    w2 = w2 + lr * ((c - o) * b)\n",
    "\n",
    "    if i > max_iter:\n",
    "        break"
   ]
  },
  {
   "cell_type": "code",
   "execution_count": 12,
   "metadata": {
    "colab": {
     "base_uri": "https://localhost:8080/"
    },
    "id": "iFrVB8a4UfmV",
    "outputId": "e35c6292-6d54-4eb5-b251-e5bbdb477b6c"
   },
   "outputs": [
    {
     "name": "stdout",
     "output_type": "stream",
     "text": [
      "0 0 0 0\n",
      "1 0 1 0\n",
      "0 1 1 0\n",
      "1 1 1 1\n"
     ]
    }
   ],
   "source": [
    "for i, (a, b, c) in enumerate(dataset):\n",
    "    o = (w1*a + w2 * b)\n",
    "    print(a, b, c, int(o))"
   ]
  }
 ],
 "metadata": {
  "accelerator": "GPU",
  "colab": {
   "gpuType": "T4",
   "provenance": []
  },
  "kernelspec": {
   "display_name": "Python 3 (ipykernel)",
   "language": "python",
   "name": "python3"
  },
  "language_info": {
   "codemirror_mode": {
    "name": "ipython",
    "version": 3
   },
   "file_extension": ".py",
   "mimetype": "text/x-python",
   "name": "python",
   "nbconvert_exporter": "python",
   "pygments_lexer": "ipython3",
   "version": "3.10.13"
  }
 },
 "nbformat": 4,
 "nbformat_minor": 1
}
